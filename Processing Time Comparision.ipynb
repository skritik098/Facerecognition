{
 "cells": [
  {
   "cell_type": "code",
   "execution_count": 4,
   "metadata": {
    "collapsed": true
   },
   "outputs": [],
   "source": [
    "import dlib\n",
    "import cv2\n",
    "import face_recognition\n",
    "import matplotlib.pyplot as plt\n",
    "import face_recognition_models\n",
    "import time\n",
    "%matplotlib inline"
   ]
  },
  {
   "cell_type": "code",
   "execution_count": 9,
   "metadata": {
    "collapsed": true
   },
   "outputs": [],
   "source": [
    "image = face_recognition.load_image_file('/Users/kritiksachdeva/Downloads/Charu Sonkar.jpg')\n",
    "image2D = cv2.cvtColor(image,cv2.COLOR_BGR2GRAY)"
   ]
  },
  {
   "cell_type": "code",
   "execution_count": 10,
   "metadata": {
    "collapsed": true
   },
   "outputs": [],
   "source": [
    "## HOG Based Face Detection with Face_Recognition Library\n",
    "st = time.time()\n",
    "faceRec = face_recognition.face_locations(image,model='hog')\n",
    "end = time.time()"
   ]
  },
  {
   "cell_type": "code",
   "execution_count": 11,
   "metadata": {},
   "outputs": [
    {
     "name": "stdout",
     "output_type": "stream",
     "text": [
      "(0.13709807395935059, '*2f')\n"
     ]
    }
   ],
   "source": [
    "print(end-st,'*2f')"
   ]
  },
  {
   "cell_type": "code",
   "execution_count": 12,
   "metadata": {
    "collapsed": true
   },
   "outputs": [],
   "source": [
    "## CNN Based Face Detection with Face_Recognition Library\n",
    "st = time.time()\n",
    "faceRec = face_recognition.face_locations(image,model='cnn')\n",
    "end = time.time()"
   ]
  },
  {
   "cell_type": "code",
   "execution_count": 13,
   "metadata": {},
   "outputs": [
    {
     "name": "stdout",
     "output_type": "stream",
     "text": [
      "(1.9551200866699219, '*2f')\n"
     ]
    }
   ],
   "source": [
    "print(end-st,'*2f')"
   ]
  },
  {
   "cell_type": "code",
   "execution_count": 14,
   "metadata": {
    "collapsed": true
   },
   "outputs": [],
   "source": [
    "##Dlib HOG Based Face Detection\n",
    "faceDet = dlib.get_frontal_face_detector()\n",
    "st = time.time()\n",
    "faces = faceDet(image,1)\n",
    "end = time.time()"
   ]
  },
  {
   "cell_type": "code",
   "execution_count": 15,
   "metadata": {},
   "outputs": [
    {
     "name": "stdout",
     "output_type": "stream",
     "text": [
      "(0.14121699333190918, '*2f')\n"
     ]
    }
   ],
   "source": [
    "print(end-st,'*2f')"
   ]
  },
  {
   "cell_type": "code",
   "execution_count": 17,
   "metadata": {
    "collapsed": true
   },
   "outputs": [],
   "source": [
    "##CNN Based Face Detection with dlib library\n",
    "faceDet = dlib.cnn_face_detection_model_v1('mmod_human_face_detector.dat')\n",
    "st = time.time()\n",
    "faces = faceDet(image,1)\n",
    "end = time.time()"
   ]
  },
  {
   "cell_type": "code",
   "execution_count": 18,
   "metadata": {},
   "outputs": [
    {
     "name": "stdout",
     "output_type": "stream",
     "text": [
      "(2.4262468814849854, '*2f')\n"
     ]
    }
   ],
   "source": [
    "print(end-st,'*2f')"
   ]
  },
  {
   "cell_type": "code",
   "execution_count": 39,
   "metadata": {},
   "outputs": [],
   "source": [
    "## HaarCascade Classifier Face Detection\n",
    "faceDet = cv2.CascadeClassifier('haarcascade_frontalface_default.xml')\n",
    "st = time.time()\n",
    "faces = faceDet.detectMultiScale(image,2,2)\n",
    "end = time.time()"
   ]
  },
  {
   "cell_type": "code",
   "execution_count": 40,
   "metadata": {},
   "outputs": [
    {
     "name": "stdout",
     "output_type": "stream",
     "text": [
      "(0.013168096542358398, '*2f')\n"
     ]
    }
   ],
   "source": [
    "print(end-st,'*2f')"
   ]
  },
  {
   "cell_type": "code",
   "execution_count": null,
   "metadata": {
    "collapsed": true
   },
   "outputs": [],
   "source": []
  }
 ],
 "metadata": {
  "kernelspec": {
   "display_name": "Python 2",
   "language": "python",
   "name": "python2"
  },
  "language_info": {
   "codemirror_mode": {
    "name": "ipython",
    "version": 2
   },
   "file_extension": ".py",
   "mimetype": "text/x-python",
   "name": "python",
   "nbconvert_exporter": "python",
   "pygments_lexer": "ipython2",
   "version": "2.7.13"
  }
 },
 "nbformat": 4,
 "nbformat_minor": 2
}
