{
 "cells": [
  {
   "cell_type": "code",
   "execution_count": null,
   "metadata": {
    "collapsed": true
   },
   "outputs": [],
   "source": [
    "import cv2\n",
    "import dlib\n",
    "import numpy as np"
   ]
  },
  {
   "cell_type": "code",
   "execution_count": null,
   "metadata": {
    "collapsed": true
   },
   "outputs": [],
   "source": [
    "faceDet = cv2.CascadeClassifier('haarcascade_frontalface_default.xml')"
   ]
  },
  {
   "cell_type": "code",
   "execution_count": null,
   "metadata": {},
   "outputs": [],
   "source": [
    "def FaceExtractor(img):\n",
    "    global cropface\n",
    "    Gray = cv2.cvtColor(img, cv2.COLOR_BGR2GRAY)\n",
    "    faces = faceDet.detectMultiScale(Gray,1.3,2)\n",
    "    if faces is None:\n",
    "        return None;\n",
    "   # for face in faces:\n",
    "   #     x = face.left()\n",
    "   #     y = face.top()\n",
    "   #     w = face.right() - x\n",
    "   #     h = face.bottom() - y\n",
    "   #     FaceCrop = img[y:y+h,x:x+h]\n",
    "   #     return FaceCrop\n",
    "    for (x,y,w,h) in faces:\n",
    "        global cropface\n",
    "        cropface = img[y:y+h,x:x+w]\n",
    "    return cropface"
   ]
  },
  {
   "cell_type": "code",
   "execution_count": null,
   "metadata": {},
   "outputs": [],
   "source": [
    "cnt = 0\n",
    "cap = cv2.VideoCapture(0)\n",
    "while True:\n",
    "    ret, img = cap.read()\n",
    "    if FaceExtractor(img) is None:\n",
    "        print(\"No face found\")\n",
    "    else:\n",
    "        a= FaceExtractor(img)\n",
    "        cv2.imshow('Hi',a)\n",
    "        cnt+=1\n",
    "        file_name_path = '/Users/kritiksachdeva/MyProject/FaceRecognition/Myface/'+str(cnt)+'.jpg'\n",
    "        cv2.imwrite(file_name_path,a)\n",
    "    if cv2.waitKey(1) == 13 or cnt == 100:\n",
    "        break\n",
    "    \n",
    "cap.release()\n",
    "cv2.destroyAllWindows()\n",
    "print(\"collecting Samples is complete\")"
   ]
  },
  {
   "cell_type": "code",
   "execution_count": null,
   "metadata": {},
   "outputs": [],
   "source": [
    "from os import listdir\n",
    "from os.path import isfile, join"
   ]
  },
  {
   "cell_type": "code",
   "execution_count": null,
   "metadata": {},
   "outputs": [],
   "source": [
    "data_path = '/Users/kritiksachdeva/MyProject/FaceRecognition/Myface/'\n",
    "onlyfiles = [f for f in listdir(data_path) if isfile(join(data_path,f))]\n",
    "\n",
    "Training_data, Labels = [], []\n",
    "\n",
    "for i,files in enumerate(onlyfiles):\n",
    "    img_path = data_path + onlyfiles[i]\n",
    "    images = cv2.imread(img_path,cv2.IMREAD_GRAYSCALE)\n",
    "    Training_data.append(np.asarray(images,dtype=np.uint8))\n",
    "    Labels.append(i)\n",
    "Labels = np.asanyarray(Labels)\n",
    "\n",
    "model = cv2.face.createLBPHFaceRecognizer()\n",
    "model.train(np.asarray(Training_data),np.asarray(Labels))\n",
    "print(\"Model Trained Sucessfully\")"
   ]
  },
  {
   "cell_type": "code",
   "execution_count": null,
   "metadata": {},
   "outputs": [],
   "source": [
    "def faceExtract(img):\n",
    "    global ro\n",
    "    Gray = cv2.cvtColor(img, cv2.COLOR_BGR2GRAY)\n",
    "    faces = faceDet.detectMultiScale(Gray,1.3,2)\n",
    "    for (x,y,w,h) in faces:\n",
    "        cv2.rectangle(img,(x,y),(x+w,y+h),(0,255,255),2)\n",
    "        global ro \n",
    "        ro = img[y:y+h,x:x+w]\n",
    "    return ro\n",
    "\n",
    "cap = cv2.VideoCapture(0)\n",
    "while True:\n",
    "    ret, image = cap.read()\n",
    "    #print(ret)\n",
    "    cropFace = faceExtract(image)\n",
    "    try:\n",
    "        face = cv2.cvtColor(cropFace,cv2.COLOR_BGR2GRAY)\n",
    "        results = model.predict(face)\n",
    "        print(results)\n",
    "        if results[1] < 100:\n",
    "            confidence = int( 100 * (1 - (results[1])/100) )\n",
    "            display_string = str(confidence) + '% Confident it is User'\n",
    "\n",
    "            cv2.putText(image, display_string, (100, 120), cv2.FONT_HERSHEY_COMPLEX, 1, (255,120,150), 2)\n",
    "\n",
    "            if confidence > 35:\n",
    "                cv2.putText(image, \"Hey aditya\", (250, 450), cv2.FONT_HERSHEY_COMPLEX, 1, (0,255,0), 2)\n",
    "                threshold( image, thr, 100,255,THRESH_BINARY )\n",
    "                cv2.imshow('Face Recognition', image )\n",
    "                break\n",
    "            else:\n",
    "                cv2.putText(image, \"Locked\", (250, 450), cv2.FONT_HERSHEY_COMPLEX, 1, (0,0,255), 2)\n",
    "                cv2.imshow('Face Recognition', image )\n",
    "    except:\n",
    "        cv2.putText(image, \"No Face Found\", (220, 120) , cv2.FONT_HERSHEY_COMPLEX, 1, (0,0,255), 2)\n",
    "        cv2.putText(image, \"Locked\", (250, 450), cv2.FONT_HERSHEY_COMPLEX, 1, (0,0,255), 2)\n",
    "        cv2.imshow('Face Recognition', image )\n",
    "        pass\n",
    "        \n",
    "    if cv2.waitKey(1) == 13: #13 is the Enter Key\n",
    "        break\n",
    "        \n",
    "cap.release()\n",
    "cv2.destroyAllWindows()"
   ]
  },
  {
   "cell_type": "code",
   "execution_count": null,
   "metadata": {
    "collapsed": true
   },
   "outputs": [],
   "source": []
  },
  {
   "cell_type": "code",
   "execution_count": null,
   "metadata": {
    "collapsed": true
   },
   "outputs": [],
   "source": []
  },
  {
   "cell_type": "code",
   "execution_count": null,
   "metadata": {
    "collapsed": true
   },
   "outputs": [],
   "source": []
  },
  {
   "cell_type": "code",
   "execution_count": null,
   "metadata": {
    "collapsed": true
   },
   "outputs": [],
   "source": []
  },
  {
   "cell_type": "code",
   "execution_count": null,
   "metadata": {
    "collapsed": true
   },
   "outputs": [],
   "source": []
  }
 ],
 "metadata": {
  "kernelspec": {
   "display_name": "Python 2",
   "language": "python",
   "name": "python2"
  },
  "language_info": {
   "codemirror_mode": {
    "name": "ipython",
    "version": 2
   },
   "file_extension": ".py",
   "mimetype": "text/x-python",
   "name": "python",
   "nbconvert_exporter": "python",
   "pygments_lexer": "ipython2",
   "version": "2.7.13"
  }
 },
 "nbformat": 4,
 "nbformat_minor": 2
}
